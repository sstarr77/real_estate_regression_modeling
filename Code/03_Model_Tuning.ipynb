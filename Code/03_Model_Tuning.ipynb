{
 "cells": [
  {
   "cell_type": "markdown",
   "id": "fb9b6a3f",
   "metadata": {},
   "source": [
    "### Imports"
   ]
  },
  {
   "cell_type": "code",
   "execution_count": 1,
   "id": "b0f75200",
   "metadata": {},
   "outputs": [],
   "source": [
    "import pandas as pd\n",
    "import numpy as np\n",
    "import seaborn as sns\n",
    "import matplotlib.pyplot as plt\n",
    "from sklearn.linear_model import LinearRegression\n",
    "from sklearn.model_selection import train_test_split, cross_val_score\n",
    "from sklearn.preprocessing import StandardScaler, PolynomialFeatures\n",
    "from sklearn.metrics import r2_score\n",
    "from sklearn.linear_model import Ridge\n",
    "from sklearn.linear_model import Lasso\n",
    "sns.set_style('darkgrid')\n",
    "\n",
    "%matplotlib inline"
   ]
  },
  {
   "cell_type": "markdown",
   "id": "776de707",
   "metadata": {},
   "source": [
    "### Importing Data"
   ]
  },
  {
   "cell_type": "code",
   "execution_count": 2,
   "id": "a613db59",
   "metadata": {},
   "outputs": [],
   "source": [
    "df_train = pd.read_csv('../Data/cleaned1_train.csv')\n",
    "df_test = pd.read_csv('../Data/cleaned1_test.csv')"
   ]
  },
  {
   "cell_type": "code",
   "execution_count": 3,
   "id": "81daf7d9",
   "metadata": {},
   "outputs": [],
   "source": [
    "df_train.drop(columns='Unnamed: 0', inplace=True)"
   ]
  },
  {
   "cell_type": "code",
   "execution_count": 4,
   "id": "839dc3b7",
   "metadata": {},
   "outputs": [],
   "source": [
    "df_test.drop(columns='Unnamed: 0', inplace=True)"
   ]
  },
  {
   "cell_type": "markdown",
   "id": "78c59f2a",
   "metadata": {},
   "source": [
    "### Convert all columns to lowercase and replace spaces in column names."
   ]
  },
  {
   "cell_type": "code",
   "execution_count": 5,
   "id": "12cc4116",
   "metadata": {},
   "outputs": [],
   "source": [
    "df_train.columns = df_train.columns.str.lower().str.replace(' ', '_')"
   ]
  },
  {
   "cell_type": "code",
   "execution_count": 6,
   "id": "6a8698b8",
   "metadata": {},
   "outputs": [],
   "source": [
    "df_test.columns = df_test.columns.str.lower().str.replace(' ', '_')"
   ]
  },
  {
   "cell_type": "markdown",
   "id": "1468a424",
   "metadata": {},
   "source": [
    "### Setting up X and y"
   ]
  },
  {
   "cell_type": "code",
   "execution_count": 7,
   "id": "76fd1f00",
   "metadata": {},
   "outputs": [],
   "source": [
    "X = df_train[['gr_liv_area','overall_qual']]\n",
    "y = df_train['saleprice']"
   ]
  },
  {
   "cell_type": "markdown",
   "id": "e2e1d443",
   "metadata": {},
   "source": [
    "### Instantiating our PolynomialFeatures object"
   ]
  },
  {
   "cell_type": "code",
   "execution_count": 8,
   "id": "f3573fb5",
   "metadata": {},
   "outputs": [],
   "source": [
    "poly = PolynomialFeatures(degree=2, interaction_only=False, include_bias=False)"
   ]
  },
  {
   "cell_type": "markdown",
   "id": "92c9d156",
   "metadata": {},
   "source": [
    "### Fitting and Transforming the Data"
   ]
  },
  {
   "cell_type": "code",
   "execution_count": 9,
   "id": "82966049",
   "metadata": {},
   "outputs": [],
   "source": [
    "X_overfit = poly.fit_transform(X)"
   ]
  },
  {
   "cell_type": "code",
   "execution_count": 13,
   "id": "b4e69076",
   "metadata": {
    "scrolled": true
   },
   "outputs": [
    {
     "data": {
      "text/plain": [
       "array(['gr_liv_area', 'overall_qual', 'gr_liv_area^2',\n",
       "       'gr_liv_area overall_qual', 'overall_qual^2'], dtype=object)"
      ]
     },
     "execution_count": 13,
     "metadata": {},
     "output_type": "execute_result"
    }
   ],
   "source": [
    "poly.get_feature_names_out(X.columns)"
   ]
  },
  {
   "cell_type": "markdown",
   "id": "dbe8e24d",
   "metadata": {},
   "source": [
    "### Creating Train Test Splits"
   ]
  },
  {
   "cell_type": "code",
   "execution_count": 11,
   "id": "821869f3",
   "metadata": {},
   "outputs": [],
   "source": [
    "X_train, X_test, y_train, y_test = train_test_split(\n",
    "    X_overfit,\n",
    "    y,\n",
    "    test_size=0.7,\n",
    "    random_state=42\n",
    ")\n"
   ]
  },
  {
   "cell_type": "markdown",
   "id": "c0f1248c",
   "metadata": {},
   "source": [
    "### Scaling Our Data"
   ]
  },
  {
   "cell_type": "code",
   "execution_count": 14,
   "id": "af9b5b20",
   "metadata": {},
   "outputs": [],
   "source": [
    "sc = StandardScaler()\n",
    "Z_train = sc.fit_transform(X_train)\n",
    "Z_test = sc.transform(X_test)    "
   ]
  },
  {
   "cell_type": "markdown",
   "id": "4d276861",
   "metadata": {},
   "source": [
    "### Linear Regression"
   ]
  },
  {
   "cell_type": "code",
   "execution_count": 15,
   "id": "1e14b68a",
   "metadata": {},
   "outputs": [],
   "source": [
    "ols = LinearRegression()\n"
   ]
  },
  {
   "cell_type": "code",
   "execution_count": 16,
   "id": "9af9eca3",
   "metadata": {},
   "outputs": [
    {
     "data": {
      "text/plain": [
       "LinearRegression()"
      ]
     },
     "execution_count": 16,
     "metadata": {},
     "output_type": "execute_result"
    }
   ],
   "source": [
    "ols.fit(Z_train, y_train)"
   ]
  },
  {
   "cell_type": "markdown",
   "id": "35a5eaf6",
   "metadata": {},
   "source": [
    "### Checking How the Model Scores on the Training and Test Data?"
   ]
  },
  {
   "cell_type": "code",
   "execution_count": 17,
   "id": "3cf18169",
   "metadata": {},
   "outputs": [
    {
     "data": {
      "text/plain": [
       "(0.7911096492244158, 0.7645601585485928)"
      ]
     },
     "execution_count": 17,
     "metadata": {},
     "output_type": "execute_result"
    }
   ],
   "source": [
    "ols.score(Z_train, y_train), ols.score(Z_test, y_test)"
   ]
  },
  {
   "cell_type": "code",
   "execution_count": 18,
   "id": "69cb9c7b",
   "metadata": {},
   "outputs": [
    {
     "data": {
      "text/plain": [
       "45258105.953449935"
      ]
     },
     "execution_count": 18,
     "metadata": {},
     "output_type": "execute_result"
    }
   ],
   "source": [
    "alpha = .0010\n",
    "alpha * (ols.coef_ ** 2).sum()"
   ]
  },
  {
   "cell_type": "code",
   "execution_count": 19,
   "id": "297c67d0",
   "metadata": {},
   "outputs": [
    {
     "data": {
      "text/plain": [
       "45258105953.449936"
      ]
     },
     "execution_count": 19,
     "metadata": {},
     "output_type": "execute_result"
    }
   ],
   "source": [
    "(ols.coef_ ** 2).sum()"
   ]
  },
  {
   "cell_type": "markdown",
   "id": "8477e54c",
   "metadata": {},
   "source": [
    "### Instantiating Ridge"
   ]
  },
  {
   "cell_type": "code",
   "execution_count": 20,
   "id": "181e3881",
   "metadata": {},
   "outputs": [],
   "source": [
    "ridge = Ridge(alpha = 100)"
   ]
  },
  {
   "cell_type": "code",
   "execution_count": 21,
   "id": "28182eab",
   "metadata": {},
   "outputs": [
    {
     "data": {
      "text/plain": [
       "Ridge(alpha=100)"
      ]
     },
     "execution_count": 21,
     "metadata": {},
     "output_type": "execute_result"
    }
   ],
   "source": [
    "ridge.fit(Z_train, y_train)"
   ]
  },
  {
   "cell_type": "code",
   "execution_count": 22,
   "id": "2a650e71",
   "metadata": {},
   "outputs": [
    {
     "data": {
      "text/plain": [
       "(0.7096273608279441, 0.7599302104497923)"
      ]
     },
     "execution_count": 22,
     "metadata": {},
     "output_type": "execute_result"
    }
   ],
   "source": [
    "ridge.score(Z_train, y_train), ridge.score(Z_test, y_test)"
   ]
  },
  {
   "cell_type": "code",
   "execution_count": 23,
   "id": "bcb5cbb0",
   "metadata": {},
   "outputs": [
    {
     "data": {
      "text/plain": [
       "(0.7911096492244158, 0.7645601585485928)"
      ]
     },
     "execution_count": 23,
     "metadata": {},
     "output_type": "execute_result"
    }
   ],
   "source": [
    "ols.score(Z_train, y_train), ols.score(Z_test, y_test)"
   ]
  },
  {
   "cell_type": "code",
   "execution_count": 24,
   "id": "949a0638",
   "metadata": {},
   "outputs": [],
   "source": [
    "from sklearn.linear_model import RidgeCV"
   ]
  },
  {
   "cell_type": "markdown",
   "id": "c65f4486",
   "metadata": {},
   "source": [
    "### Setting Up a List of Ridge Alphas to Check"
   ]
  },
  {
   "cell_type": "code",
   "execution_count": 25,
   "id": "e6e5bfc8",
   "metadata": {},
   "outputs": [],
   "source": [
    "alphas = np.logspace(0, 5, 100)"
   ]
  },
  {
   "cell_type": "code",
   "execution_count": 26,
   "id": "2e805de8",
   "metadata": {},
   "outputs": [],
   "source": [
    "ridge_cv = RidgeCV(alphas = alphas, cv = 5) "
   ]
  },
  {
   "cell_type": "markdown",
   "id": "961ec061",
   "metadata": {},
   "source": [
    "### Cross Validating Over Our List of Ridge Alphas"
   ]
  },
  {
   "cell_type": "code",
   "execution_count": null,
   "id": "75063646",
   "metadata": {},
   "outputs": [],
   "source": [
    "ridge_cv.fit(Z_train, y_train);"
   ]
  },
  {
   "cell_type": "markdown",
   "id": "9cdd24ce",
   "metadata": {},
   "source": [
    "### The Crossval Score"
   ]
  },
  {
   "cell_type": "code",
   "execution_count": null,
   "id": "975756b6",
   "metadata": {},
   "outputs": [],
   "source": [
    "ridge_cv.best_score_ "
   ]
  }
 ],
 "metadata": {
  "kernelspec": {
   "display_name": "Python 3 (ipykernel)",
   "language": "python",
   "name": "python3"
  },
  "language_info": {
   "codemirror_mode": {
    "name": "ipython",
    "version": 3
   },
   "file_extension": ".py",
   "mimetype": "text/x-python",
   "name": "python",
   "nbconvert_exporter": "python",
   "pygments_lexer": "ipython3",
   "version": "3.9.7"
  }
 },
 "nbformat": 4,
 "nbformat_minor": 5
}
